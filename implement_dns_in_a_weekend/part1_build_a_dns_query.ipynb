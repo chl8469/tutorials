{
 "cells": [
  {
   "cell_type": "code",
   "id": "initial_id",
   "metadata": {
    "collapsed": true,
    "ExecuteTime": {
     "end_time": "2024-04-13T17:19:22.863229Z",
     "start_time": "2024-04-13T17:19:22.859610Z"
    }
   },
   "source": [
    "from dataclasses import dataclass\n",
    "import dataclasses\n",
    "import struct\n",
    "import random\n",
    "import socket"
   ],
   "outputs": [],
   "execution_count": 28
  },
  {
   "metadata": {},
   "cell_type": "markdown",
   "source": "# 1.1 DNSHeader와 DNSQuestion 클래스 작성하기",
   "id": "7586406e7ca96791"
  },
  {
   "metadata": {},
   "cell_type": "markdown",
   "source": [
    "DNS Header는 아래와 같은 정보를 가지고 있다.\n",
    "- query ID\n",
    "- flags\n",
    "- 4개의 count (num_questions, num_answers, num_authorities, num_additionals)는 DNS 패킷의 각 섹션에 얼마나 많은 레코드가 있는지 알려준다."
   ],
   "id": "44cf203fe094f3a3"
  },
  {
   "metadata": {
    "ExecuteTime": {
     "end_time": "2024-04-13T16:11:44.272391Z",
     "start_time": "2024-04-13T16:11:44.269851Z"
    }
   },
   "cell_type": "code",
   "source": [
    "@dataclass\n",
    "class DNSHeader:\n",
    "    id: int\n",
    "    flags: int\n",
    "    num_questions: int = 0\n",
    "    num_answers: int = 0\n",
    "    num_authorities: int = 0\n",
    "    num_additionals: int = 0"
   ],
   "id": "e634b9f140951902",
   "outputs": [],
   "execution_count": 3
  },
  {
   "metadata": {},
   "cell_type": "markdown",
   "source": [
    "DNS Question은 3개의 필드를 가지고 있다.\n",
    "- name (예: example.com)\n",
    "- type (예: A record)\n",
    "- class (항상 같음)"
   ],
   "id": "54aa83f3d58b47fe"
  },
  {
   "metadata": {
    "ExecuteTime": {
     "end_time": "2024-04-13T16:11:44.651287Z",
     "start_time": "2024-04-13T16:11:44.649001Z"
    }
   },
   "cell_type": "code",
   "source": [
    "@dataclass\n",
    "class DNSQuestion:\n",
    "    name: bytes\n",
    "    type_: int\n",
    "    class_: int"
   ],
   "id": "2c2db10e7fd71d02",
   "outputs": [],
   "execution_count": 4
  },
  {
   "metadata": {},
   "cell_type": "markdown",
   "source": "# 1.2 bytes로 변환하기",
   "id": "a941893fcdeea5cb"
  },
  {
   "metadata": {
    "ExecuteTime": {
     "end_time": "2024-04-13T16:11:45.048804Z",
     "start_time": "2024-04-13T16:11:45.046744Z"
    }
   },
   "cell_type": "code",
   "source": [
    "def header_to_bytes(header):\n",
    "    fields = dataclasses.astuple(header)\n",
    "    # there are 6 `H`s because there are 6 fields\n",
    "    return struct.pack(\"!HHHHHH\", *fields)\n",
    "\n",
    "def question_to_bytes(question):\n",
    "    return question.name + struct.pack(\"!HH\", question.type_, question.class_)"
   ],
   "id": "200caaf04ac08cec",
   "outputs": [],
   "execution_count": 5
  },
  {
   "metadata": {},
   "cell_type": "markdown",
   "source": [
    "strunct.pack은 데이터를 바이트로 변환하는 함수이다. `!`는 네트워크 byte order를 의미하고, `H`는 2byte integer를 의미한다. C의 unsigned short와 같다. [참고](https://docs.python.org/ko/3/library/struct.html#format-characters)  \n",
    "아래의 예시를 살펴보자."
   ],
   "id": "a73b3e004c2bafd7"
  },
  {
   "metadata": {
    "ExecuteTime": {
     "end_time": "2024-04-13T16:11:50.241473Z",
     "start_time": "2024-04-13T16:11:50.239185Z"
    }
   },
   "cell_type": "code",
   "source": "struct.pack('!HH', 5, 23)",
   "id": "84c34a8c9402cada",
   "outputs": [
    {
     "data": {
      "text/plain": [
       "b'\\x00\\x05\\x00\\x17'"
      ]
     },
     "execution_count": 7,
     "metadata": {},
     "output_type": "execute_result"
    }
   ],
   "execution_count": 7
  },
  {
   "metadata": {},
   "cell_type": "markdown",
   "source": "HH는 2개의 2byte integer를 의미한다. 따라서 5와 23이 각각 2byte로 변환된다.",
   "id": "fa26b58967bd7eac"
  },
  {
   "metadata": {
    "ExecuteTime": {
     "end_time": "2024-04-13T16:11:53.217660Z",
     "start_time": "2024-04-13T16:11:53.214224Z"
    }
   },
   "cell_type": "code",
   "source": [
    "print(\"big endian: \", struct.pack('!I', 16909060))\n",
    "print(\"little endian: \", struct.pack('I', 16909060))"
   ],
   "id": "5ff4ebf1616ac4bb",
   "outputs": [
    {
     "name": "stdout",
     "output_type": "stream",
     "text": [
      "big endian:  b'\\x01\\x02\\x03\\x04'\n",
      "little endian:  b'\\x04\\x03\\x02\\x01'\n"
     ]
    }
   ],
   "execution_count": 8
  },
  {
   "metadata": {},
   "cell_type": "markdown",
   "source": [
    "- big endian -> 사람이 숫자를 쓰는 방법과 같이 큰 단위의 바이트가 앞에 오는 방법\n",
    "- littlen endian -> 작은 단위의 바이트가 앞에 오는 방법\n",
    "\n",
    "네트워크 패킷에서는 정수가 항상 big endian 방식으로 인코딩된다. 그러나 다른 상황에서는 little endian이 기본값이다. 따라서 `!`는 \"컴퓨터 네트워킹을 위한 바이트 순서를 사용하라\"는 의미이다. "
   ],
   "id": "a194d7939d3fa87d"
  },
  {
   "metadata": {},
   "cell_type": "code",
   "outputs": [],
   "execution_count": null,
   "source": "",
   "id": "78e2cfe0d732f15a"
  },
  {
   "metadata": {},
   "cell_type": "markdown",
   "source": "# 1.3 name 인코딩",
   "id": "d47df5c029807cde"
  },
  {
   "metadata": {},
   "cell_type": "markdown",
   "source": [
    "DNS query를 하기 위해선 도메인 이름 또한 인코딩해야 한다. 인코딩하는 방법은 아래와 같다.\n",
    "- 문자열을 ASCII로 인코딩한다.\n",
    "- 도메인 이름을 `.`을 기준으로 분리한다.\n",
    "- 분리된 도메인 이름의 앞에 각 도메인 이름의 길이를 붙인다.\n",
    "  - 예를 들면, `naver`는 `\\x05naver`로 변환된다.\n",
    "  - 각 레이블의 길이는 1바이트로 표현된다.\n",
    "- 변환한 도메인을 모두 합친다.\n",
    "- 도메인 이름의 끝에 `0`을 붙인다."
   ],
   "id": "d7543b0edd126310"
  },
  {
   "metadata": {
    "ExecuteTime": {
     "end_time": "2024-04-13T16:48:52.037562Z",
     "start_time": "2024-04-13T16:48:52.034181Z"
    }
   },
   "cell_type": "code",
   "source": [
    "def encode_dns_name(domain_name):\n",
    "    encoded = b\"\"\n",
    "    for part in domain_name.encode(\"ascii\").split(b\".\"):\n",
    "        encoded += bytes([len(part)]) + part\n",
    "    return encoded + b\"\\x00\""
   ],
   "id": "9141318a71fc0917",
   "outputs": [],
   "execution_count": 20
  },
  {
   "metadata": {},
   "cell_type": "code",
   "outputs": [],
   "execution_count": null,
   "source": "",
   "id": "5f4289acfaf75818"
  },
  {
   "metadata": {},
   "cell_type": "markdown",
   "source": "# 1.4 쿼리 생성하기",
   "id": "d3c2efb3d27c1b7"
  },
  {
   "metadata": {
    "ExecuteTime": {
     "end_time": "2024-04-13T17:16:59.915703Z",
     "start_time": "2024-04-13T17:16:59.911096Z"
    }
   },
   "cell_type": "code",
   "source": [
    "random.seed(1)\n",
    "\n",
    "TYPE_A = 1\n",
    "CLASS_IN = 1\n",
    "\n",
    "def build_query(domain_name, record_type):\n",
    "    name = encode_dns_name(domain_name)\n",
    "    id_ = random.randint(0, 65535)\n",
    "    recursion_desired = 1 << 8\n",
    "    header = DNSHeader(id=id_, num_questions=1, flags=recursion_desired)\n",
    "    question = DNSQuestion(name=name, type_=record_type, class_=CLASS_IN)\n",
    "    return header_to_bytes(header) + question_to_bytes(question)\n",
    "\n",
    "build_query((\"blog.horang.dev\"), TYPE_A)"
   ],
   "id": "9255260255039257",
   "outputs": [
    {
     "data": {
      "text/plain": [
       "b'D\\xcb\\x01\\x00\\x00\\x01\\x00\\x00\\x00\\x00\\x00\\x00\\x04blog\\x06horang\\x03dev\\x00\\x00\\x01\\x00\\x01'"
      ]
     },
     "execution_count": 26,
     "metadata": {},
     "output_type": "execute_result"
    }
   ],
   "execution_count": 26
  },
  {
   "metadata": {},
   "cell_type": "markdown",
   "source": [
    "1. RFC 1035에서 section 3.2.2 to 3.2.4를 참고하여 query type과 class를 정의한다.\n",
    "2. encode_dns_name으로 DNS 이름을 인코딩한다.\n",
    "3. query를 위한 랜덤 ID를 생성한다.\n",
    "4. flag를 \"recursion desired\"로 설정한다. 이는 DNS resolver와 통신할 때 설정해야 한다. flag의 인코딩은 RFC 1035의 section 4.1.1에 정의되어 있다. RECURSION_DESIRED = 1<<8의 이유는 RFC 1035에 따르면 Recursion Desired bit는 flags 필드에서 오른쪽에서 9번째 비트이다.(1<<8 = 100000000)\n",
    "5. question을 생성한다.\n",
    "6. header와 question을 합친다."
   ],
   "id": "6255d7f6226223c4"
  },
  {
   "metadata": {},
   "cell_type": "code",
   "outputs": [],
   "execution_count": null,
   "source": "",
   "id": "b43c1af17577774f"
  },
  {
   "metadata": {},
   "cell_type": "markdown",
   "source": "# 1.5 테스트",
   "id": "7fb792f97e4e32d7"
  },
  {
   "metadata": {
    "ExecuteTime": {
     "end_time": "2024-04-13T17:24:50.845222Z",
     "start_time": "2024-04-13T17:24:50.791581Z"
    }
   },
   "cell_type": "code",
   "source": [
    "query = build_query(\"blog.horang.dev\", TYPE_A)\n",
    "\n",
    "# create a UDP socket\n",
    "# `socket.AF_INET` means that we're connecting to the internet\n",
    "#                  (as opposed to a Unix domain socket `AF_UNIX` for example)\n",
    "# `socket.SOCK_DGRAM` means \"UDP\"\n",
    "sock = socket.socket(socket.AF_INET, socket.SOCK_DGRAM)\n",
    "\n",
    "# send our query to 8.8.8.8, port 53. Port 53 is the DNS port.\n",
    "sock.sendto(query, (\"8.8.8.8\", 53))\n",
    "\n",
    "# read the response. UDP DNS responses are usually less than 512 bytes\n",
    "# (see https://www.netmeister.org/blog/dns-size.html for MUCH more on that)\n",
    "# so reading 1024 bytes is enough\n",
    "response, _ = sock.recvfrom(1024)\n",
    "print(response)\n",
    "print(response.hex())"
   ],
   "id": "a3c6f60f43730bcb",
   "outputs": [
    {
     "name": "stdout",
     "output_type": "stream",
     "text": [
      "b'\\xe6#\\x81\\x80\\x00\\x01\\x00\\x05\\x00\\x00\\x00\\x00\\x04blog\\x06horang\\x03dev\\x00\\x00\\x01\\x00\\x01\\xc0\\x0c\\x00\\x05\\x00\\x01\\x00\\x008@\\x00\\x13\\x07chl8469\\x06github\\x02io\\x00\\xc0-\\x00\\x01\\x00\\x01\\x00\\x00\\x0e\\x10\\x00\\x04\\xb9\\xc7l\\x99\\xc0-\\x00\\x01\\x00\\x01\\x00\\x00\\x0e\\x10\\x00\\x04\\xb9\\xc7m\\x99\\xc0-\\x00\\x01\\x00\\x01\\x00\\x00\\x0e\\x10\\x00\\x04\\xb9\\xc7n\\x99\\xc0-\\x00\\x01\\x00\\x01\\x00\\x00\\x0e\\x10\\x00\\x04\\xb9\\xc7o\\x99'\n",
      "e6238180000100050000000004626c6f6706686f72616e67036465760000010001c00c000500010000384000130763686c383436390667697468756202696f00c02d0001000100000e100004b9c76c99c02d0001000100000e100004b9c76d99c02d0001000100000e100004b9c76e99c02d0001000100000e100004b9c76f99\n"
     ]
    }
   ],
   "execution_count": 41
  },
  {
   "metadata": {},
   "cell_type": "markdown",
   "source": "다음 단계에서 이 response를 parsing하는 방법을 살펴볼 것이다.",
   "id": "471316db93b9eb0d"
  },
  {
   "metadata": {},
   "cell_type": "code",
   "outputs": [],
   "execution_count": null,
   "source": "",
   "id": "58770f5b2d28fcc8"
  },
  {
   "metadata": {},
   "cell_type": "code",
   "outputs": [],
   "execution_count": null,
   "source": "",
   "id": "63f317724543093a"
  }
 ],
 "metadata": {
  "kernelspec": {
   "display_name": "Python 3",
   "language": "python",
   "name": "python3"
  },
  "language_info": {
   "codemirror_mode": {
    "name": "ipython",
    "version": 2
   },
   "file_extension": ".py",
   "mimetype": "text/x-python",
   "name": "python",
   "nbconvert_exporter": "python",
   "pygments_lexer": "ipython2",
   "version": "2.7.6"
  }
 },
 "nbformat": 4,
 "nbformat_minor": 5
}
