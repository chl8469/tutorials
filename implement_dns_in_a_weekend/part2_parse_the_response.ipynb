{
 "cells": [
  {
   "metadata": {
    "ExecuteTime": {
     "end_time": "2024-04-14T12:36:58.626459Z",
     "start_time": "2024-04-14T12:36:58.620384Z"
    }
   },
   "cell_type": "code",
   "source": [
    "import struct\n",
    "import socket\n",
    "from io import BytesIO\n",
    "\n",
    "from part_1 import build_query, DNSQuestion, DNSHeader, DNSType"
   ],
   "id": "initial_id",
   "outputs": [],
   "execution_count": 1
  },
  {
   "metadata": {
    "ExecuteTime": {
     "end_time": "2024-04-14T12:36:59.738449Z",
     "start_time": "2024-04-14T12:36:59.736201Z"
    }
   },
   "cell_type": "code",
   "source": "request_message = build_query(\"blog.horang.dev\", DNSType.A)",
   "id": "81dc27ab564f8f56",
   "outputs": [],
   "execution_count": 2
  },
  {
   "metadata": {
    "ExecuteTime": {
     "end_time": "2024-04-14T12:37:00.228553Z",
     "start_time": "2024-04-14T12:37:00.225257Z"
    }
   },
   "cell_type": "code",
   "source": "request_message",
   "id": "896dfd00e3ef0f34",
   "outputs": [
    {
     "data": {
      "text/plain": [
       "b'\\x90\\xde\\x01\\x00\\x00\\x01\\x00\\x00\\x00\\x00\\x00\\x00\\x04blog\\x06horang\\x03dev\\x00\\x00\\x01\\x00\\x01'"
      ]
     },
     "execution_count": 3,
     "metadata": {},
     "output_type": "execute_result"
    }
   ],
   "execution_count": 3
  },
  {
   "metadata": {},
   "cell_type": "code",
   "outputs": [],
   "execution_count": null,
   "source": "",
   "id": "1d1605f4baa5628"
  },
  {
   "metadata": {},
   "cell_type": "markdown",
   "source": "# 2.1 응답 메시지 파싱",
   "id": "ef32f60445e0d0ae"
  },
  {
   "metadata": {
    "ExecuteTime": {
     "end_time": "2024-04-14T12:37:04.579318Z",
     "start_time": "2024-04-14T12:37:04.576005Z"
    }
   },
   "cell_type": "code",
   "source": [
    "from dataclasses import dataclass \n",
    "\n",
    "@dataclass\n",
    "class DNSRecord:\n",
    "    name: bytes\n",
    "    type_: int\n",
    "    class_: int\n",
    "    ttl: int\n",
    "    data: bytes "
   ],
   "id": "c1c5f8b3ea1a2b52",
   "outputs": [],
   "execution_count": 4
  },
  {
   "metadata": {},
   "cell_type": "markdown",
   "source": [
    "- name: 도메인 이름\n",
    "- type_: A, AAAA, MX, NS, TXT 등 (정수로 인코딩)\n",
    "- class: 항상 동일 (1). 무시할 것이다. RFC 1035, 3.2.4. CLASS values 부분 참조\n",
    "- ttl: 쿼리를 캐시할 시간. 무시할 것이다.\n",
    "- data: 레코드의 내용, 질의한 DNS의 IP 주소와 같은 것들이 포함되어 있다.\n"
   ],
   "id": "4119c0e80d20d55f"
  },
  {
   "metadata": {},
   "cell_type": "code",
   "outputs": [],
   "execution_count": null,
   "source": "",
   "id": "6353718244ec03f2"
  },
  {
   "metadata": {},
   "cell_type": "markdown",
   "source": "# 2.2 헤더 파싱",
   "id": "d531064c8bfcaa60"
  },
  {
   "metadata": {
    "ExecuteTime": {
     "end_time": "2024-04-14T12:37:11.400571Z",
     "start_time": "2024-04-14T12:37:11.397884Z"
    }
   },
   "cell_type": "code",
   "source": [
    "def parse_header(reader):\n",
    "    items = struct.unpack(\"!HHHHHH\", reader.read(12))\n",
    "    # see \"a note on BytesIO\" for an explanation of `reader` here\n",
    "    return DNSHeader(*items)"
   ],
   "id": "2b3a7bb35d2144b1",
   "outputs": [],
   "execution_count": 5
  },
  {
   "metadata": {},
   "cell_type": "markdown",
   "source": "파트 1.2의 header_to_bytes에서의 코드와 동일하다. 각각의 6개의 필드는 2바이트 정수이므로, 총 12바이트를 읽어야 한다.",
   "id": "2f9dce34da160bf"
  },
  {
   "metadata": {
    "ExecuteTime": {
     "end_time": "2024-04-14T12:37:13.165422Z",
     "start_time": "2024-04-14T12:37:13.125293Z"
    }
   },
   "cell_type": "code",
   "source": [
    "sock = socket.socket(socket.AF_INET, socket.SOCK_DGRAM)\n",
    "\n",
    "sock.sendto(request_message, (\"8.8.8.8\", 53))\n",
    "\n",
    "response, _ = sock.recvfrom(1024)\n",
    "print(response)\n",
    "print(response.hex())"
   ],
   "id": "174d4813563810ac",
   "outputs": [
    {
     "name": "stdout",
     "output_type": "stream",
     "text": [
      "b'\\x90\\xde\\x81\\x80\\x00\\x01\\x00\\x05\\x00\\x00\\x00\\x00\\x04blog\\x06horang\\x03dev\\x00\\x00\\x01\\x00\\x01\\xc0\\x0c\\x00\\x05\\x00\\x01\\x00\\x00,b\\x00\\x13\\x07chl8469\\x06github\\x02io\\x00\\xc0-\\x00\\x01\\x00\\x01\\x00\\x00\\x022\\x00\\x04\\xb9\\xc7l\\x99\\xc0-\\x00\\x01\\x00\\x01\\x00\\x00\\x022\\x00\\x04\\xb9\\xc7m\\x99\\xc0-\\x00\\x01\\x00\\x01\\x00\\x00\\x022\\x00\\x04\\xb9\\xc7n\\x99\\xc0-\\x00\\x01\\x00\\x01\\x00\\x00\\x022\\x00\\x04\\xb9\\xc7o\\x99'\n",
      "90de8180000100050000000004626c6f6706686f72616e67036465760000010001c00c0005000100002c6200130763686c383436390667697468756202696f00c02d00010001000002320004b9c76c99c02d00010001000002320004b9c76d99c02d00010001000002320004b9c76e99c02d00010001000002320004b9c76f99\n"
     ]
    }
   ],
   "execution_count": 6
  },
  {
   "metadata": {
    "ExecuteTime": {
     "end_time": "2024-04-14T12:37:15.458228Z",
     "start_time": "2024-04-14T12:37:15.454681Z"
    }
   },
   "cell_type": "code",
   "source": [
    "reader = BytesIO(response)\n",
    "parse_header(reader)"
   ],
   "id": "dcf5368f258a8ae7",
   "outputs": [
    {
     "data": {
      "text/plain": [
       "DNSHeader(id=37086, flags=33152, num_questions=1, num_answers=5, num_authorities=0, num_additionals=0)"
      ]
     },
     "execution_count": 7,
     "metadata": {},
     "output_type": "execute_result"
    }
   ],
   "execution_count": 7
  },
  {
   "metadata": {},
   "cell_type": "markdown",
   "source": [
    "해석하면 아래와 같다.\n",
    "\n",
    "- id: `63902`, random으로 넣어주었던 값\n",
    "- flags: `33152`, QR=1, opcode=0, AA=0, TC=0, RD=1, RA=1, Z=0, RCODE=0\n",
    "- 질의한 질문의 수: `1`\n",
    "- 응답으로 돌아온 레코드의 수: `5`"
   ],
   "id": "73c71ba0fa2934eb"
  },
  {
   "metadata": {},
   "cell_type": "code",
   "outputs": [],
   "execution_count": null,
   "source": "",
   "id": "f73a80ae7ffe076"
  },
  {
   "metadata": {},
   "cell_type": "markdown",
   "source": "# 2.3 domain name 파싱(데이터 압축 처리 미포함)",
   "id": "2b666056ba702e54"
  },
  {
   "metadata": {},
   "cell_type": "markdown",
   "source": [
    "헤더부분을 파싱하였으니 이제 질문에 대한 응답을 파싱해보자. 질문에 대한 응답은 질문한 도메인 이름과 그에 대한 레코드들이다.\n",
    "\n",
    "아래를 보면 파트1에서 name 인코딩했던 것과 유사한 byte가 보인다. "
   ],
   "id": "9dd0a2dac1b48790"
  },
  {
   "metadata": {
    "ExecuteTime": {
     "end_time": "2024-04-14T12:37:20.071601Z",
     "start_time": "2024-04-14T12:37:20.068577Z"
    }
   },
   "cell_type": "code",
   "source": [
    "question = reader.read(21)\n",
    "question"
   ],
   "id": "e43758f7e89d1605",
   "outputs": [
    {
     "data": {
      "text/plain": [
       "b'\\x04blog\\x06horang\\x03dev\\x00\\x00\\x01\\x00\\x01'"
      ]
     },
     "execution_count": 8,
     "metadata": {},
     "output_type": "execute_result"
    }
   ],
   "execution_count": 8
  },
  {
   "metadata": {
    "ExecuteTime": {
     "end_time": "2024-04-14T12:37:21.596945Z",
     "start_time": "2024-04-14T12:37:21.594500Z"
    }
   },
   "cell_type": "code",
   "source": [
    "def decode_name_simple(reader):\n",
    "    parts = []\n",
    "    while (length := reader.read(1)[0]) != 0:\n",
    "        parts.append(reader.read(length))\n",
    "    return b\".\".join(parts)"
   ],
   "id": "86ca9e73eae612b4",
   "outputs": [],
   "execution_count": 9
  },
  {
   "metadata": {},
   "cell_type": "markdown",
   "source": [
    "- 1 byte를 읽어서 해당 도메인 이름의 길이를 알아낸다.\n",
    "- 그 길이만큼 도메인 이름을 읽어낸다.\n",
    "- 길이가 0이 될 때까지 반복한다.\n",
    "- 각각의 도메인 이름을 .으로 연결한다."
   ],
   "id": "6d592eec5f29cfe5"
  },
  {
   "metadata": {},
   "cell_type": "code",
   "outputs": [],
   "execution_count": null,
   "source": "",
   "id": "91c869410d8681f1"
  },
  {
   "metadata": {},
   "cell_type": "markdown",
   "source": "# 2.4 질의 파싱",
   "id": "cecdb8fca13a1079"
  },
  {
   "metadata": {
    "ExecuteTime": {
     "end_time": "2024-04-14T12:37:33.302349Z",
     "start_time": "2024-04-14T12:37:33.300420Z"
    }
   },
   "cell_type": "code",
   "source": [
    "def parse_question(reader):\n",
    "    name = decode_name_simple(reader)\n",
    "    data = reader.read(4)\n",
    "    type_, class_ = struct.unpack(\"!HH\", data)\n",
    "    return DNSQuestion(name, type_, class_)"
   ],
   "id": "d15e7d712337bd37",
   "outputs": [],
   "execution_count": 10
  },
  {
   "metadata": {
    "ExecuteTime": {
     "end_time": "2024-04-14T12:37:34.318885Z",
     "start_time": "2024-04-14T12:37:34.315850Z"
    }
   },
   "cell_type": "code",
   "source": [
    "reader = BytesIO(response)\n",
    "parse_header(reader)\n",
    "parse_question(reader)"
   ],
   "id": "9eb2e83be9d016bd",
   "outputs": [
    {
     "data": {
      "text/plain": [
       "DNSQuestion(name=b'blog.horang.dev', type_=1, class_=1)"
      ]
     },
     "execution_count": 11,
     "metadata": {},
     "output_type": "execute_result"
    }
   ],
   "execution_count": 11
  },
  {
   "metadata": {},
   "cell_type": "code",
   "outputs": [],
   "execution_count": null,
   "source": "",
   "id": "8f778ae8a944dd37"
  },
  {
   "metadata": {},
   "cell_type": "markdown",
   "source": "# 2.5 레코드 파싱 ",
   "id": "fb95677d64085559"
  },
  {
   "metadata": {},
   "cell_type": "markdown",
   "source": "이제 레코드 부분을 파싱해보자. 레코드의 포맷은 [RFC 1035, 4.1.3. Resource record format](https://datatracker.ietf.org/doc/html/rfc1035#section-4.1.3)을 참조하자.",
   "id": "918a46b879310265"
  },
  {
   "metadata": {
    "ExecuteTime": {
     "end_time": "2024-04-14T12:37:38.111268Z",
     "start_time": "2024-04-14T12:37:38.108501Z"
    }
   },
   "cell_type": "code",
   "source": [
    "def parse_record(reader):\n",
    "    name = decode_name_simple(reader)\n",
    "    # the type, class, TTL, and data length together are 10 bytes (2 + 2 + 4 + 2 = 10)\n",
    "    # so we read 10 bytes\n",
    "    data = reader.read(10)\n",
    "    # HHIH means 2-byte int, 2-byte-int, 4-byte int, 2-byte int\n",
    "    type_, class_, ttl, data_len = struct.unpack(\"!HHIH\", data) \n",
    "    data = reader.read(data_len)\n",
    "    return DNSRecord(name, type_, class_, ttl, data)"
   ],
   "id": "5670da69a20af49a",
   "outputs": [],
   "execution_count": 12
  },
  {
   "metadata": {
    "ExecuteTime": {
     "end_time": "2024-04-14T12:37:38.658013Z",
     "start_time": "2024-04-14T12:37:38.556202Z"
    }
   },
   "cell_type": "code",
   "source": [
    "reader = BytesIO(response)\n",
    "parse_header(reader)\n",
    "parse_question(reader)\n",
    "parse_record(reader)"
   ],
   "id": "c1cfbd5aaacfe19d",
   "outputs": [
    {
     "ename": "IndexError",
     "evalue": "index out of range",
     "output_type": "error",
     "traceback": [
      "\u001B[0;31m---------------------------------------------------------------------------\u001B[0m",
      "\u001B[0;31mIndexError\u001B[0m                                Traceback (most recent call last)",
      "Cell \u001B[0;32mIn[13], line 4\u001B[0m\n\u001B[1;32m      2\u001B[0m parse_header(reader)\n\u001B[1;32m      3\u001B[0m parse_question(reader)\n\u001B[0;32m----> 4\u001B[0m \u001B[43mparse_record\u001B[49m\u001B[43m(\u001B[49m\u001B[43mreader\u001B[49m\u001B[43m)\u001B[49m\n",
      "Cell \u001B[0;32mIn[12], line 2\u001B[0m, in \u001B[0;36mparse_record\u001B[0;34m(reader)\u001B[0m\n\u001B[1;32m      1\u001B[0m \u001B[38;5;28;01mdef\u001B[39;00m \u001B[38;5;21mparse_record\u001B[39m(reader):\n\u001B[0;32m----> 2\u001B[0m     name \u001B[38;5;241m=\u001B[39m \u001B[43mdecode_name_simple\u001B[49m\u001B[43m(\u001B[49m\u001B[43mreader\u001B[49m\u001B[43m)\u001B[49m\n\u001B[1;32m      3\u001B[0m     \u001B[38;5;66;03m# the type, class, TTL, and data length together are 10 bytes (2 + 2 + 4 + 2 = 10)\u001B[39;00m\n\u001B[1;32m      4\u001B[0m     \u001B[38;5;66;03m# so we read 10 bytes\u001B[39;00m\n\u001B[1;32m      5\u001B[0m     data \u001B[38;5;241m=\u001B[39m reader\u001B[38;5;241m.\u001B[39mread(\u001B[38;5;241m10\u001B[39m)\n",
      "Cell \u001B[0;32mIn[9], line 3\u001B[0m, in \u001B[0;36mdecode_name_simple\u001B[0;34m(reader)\u001B[0m\n\u001B[1;32m      1\u001B[0m \u001B[38;5;28;01mdef\u001B[39;00m \u001B[38;5;21mdecode_name_simple\u001B[39m(reader):\n\u001B[1;32m      2\u001B[0m     parts \u001B[38;5;241m=\u001B[39m []\n\u001B[0;32m----> 3\u001B[0m     \u001B[38;5;28;01mwhile\u001B[39;00m (length \u001B[38;5;241m:=\u001B[39m \u001B[43mreader\u001B[49m\u001B[38;5;241;43m.\u001B[39;49m\u001B[43mread\u001B[49m\u001B[43m(\u001B[49m\u001B[38;5;241;43m1\u001B[39;49m\u001B[43m)\u001B[49m\u001B[43m[\u001B[49m\u001B[38;5;241;43m0\u001B[39;49m\u001B[43m]\u001B[49m) \u001B[38;5;241m!=\u001B[39m \u001B[38;5;241m0\u001B[39m:\n\u001B[1;32m      4\u001B[0m         parts\u001B[38;5;241m.\u001B[39mappend(reader\u001B[38;5;241m.\u001B[39mread(length))\n\u001B[1;32m      5\u001B[0m     \u001B[38;5;28;01mreturn\u001B[39;00m \u001B[38;5;124mb\u001B[39m\u001B[38;5;124m\"\u001B[39m\u001B[38;5;124m.\u001B[39m\u001B[38;5;124m\"\u001B[39m\u001B[38;5;241m.\u001B[39mjoin(parts)\n",
      "\u001B[0;31mIndexError\u001B[0m: index out of range"
     ]
    }
   ],
   "execution_count": 13
  },
  {
   "metadata": {},
   "cell_type": "markdown",
   "source": [
    "오류가 발생한 이유는, 도메인 이름이 압축되어 있기 때문이다. record의 데이터부분을 파싱하다보면 길이가 192인 도메인 이름이 나오는데, 도메인 이름의 각 부분의 최대 길이는 63이다. 192는 byte로 11000000로 표현되는데, 이는 압축되었음을 알리는 코드이다.\n",
    "\n",
    "이는 DNS 응답에 동일한 도메인 이름이 여러번 나오기 때문에 발생한다. 이를 해결하기 위해 압축된 응답을 처리하는 함수를 작성해보자. question 부분을 파싱할 때 이러한 문제가 발생하지 않은 이유는, 도메인 이름이 한 번만 나왔기 때문이다. DNS 압축에 대한 내용은 [RFC 1035, section 4.1.4](https://datatracker.ietf.org/doc/html/rfc1035#section-4.1.4)를 참고해보자."
   ],
   "id": "c475feb621f89a5d"
  },
  {
   "metadata": {},
   "cell_type": "code",
   "outputs": [],
   "execution_count": null,
   "source": "",
   "id": "79c2cf58e988726e"
  },
  {
   "metadata": {},
   "cell_type": "markdown",
   "source": "# 2.6 domain name 파싱(데이터 압축 처리 포함)",
   "id": "57e1c8fe6da5071a"
  },
  {
   "metadata": {
    "ExecuteTime": {
     "end_time": "2024-04-14T12:37:45.345785Z",
     "start_time": "2024-04-14T12:37:45.341599Z"
    }
   },
   "cell_type": "code",
   "source": [
    "def decode_name(reader):\n",
    "    parts = []\n",
    "    while (length := reader.read(1)[0]) != 0:\n",
    "        if length & 0b1100_0000:\n",
    "            parts.append(decode_compressed_name(length, reader))\n",
    "            break\n",
    "        else:\n",
    "            parts.append(reader.read(length))\n",
    "    return b\".\".join(parts)\n",
    "\n",
    "\n",
    "def decode_compressed_name(length, reader):\n",
    "    pointer_bytes = bytes([length & 0b0011_1111]) + reader.read(1)\n",
    "    pointer = struct.unpack(\"!H\", pointer_bytes)[0]\n",
    "    current_pos = reader.tell()\n",
    "    reader.seek(pointer)\n",
    "    result = decode_name(reader)\n",
    "    reader.seek(current_pos)\n",
    "    return result"
   ],
   "id": "84782be7352f38e2",
   "outputs": [],
   "execution_count": 14
  },
  {
   "metadata": {},
   "cell_type": "markdown",
   "source": [
    "도메인 이름이 압축되어 있는지 확인하기 위하여 길이를 얻을 때마다 처음 2비트가 1인지 확인한다.\n",
    "- 앞서 말했듯이 DNS 이름 구성 요소의 최대 길이는 63자이므로 압축되지 않은 DNS 이름 부분에서는 상위 2비트가 절대 설정되지 않는다.\n",
    "\n",
    "만약 2비트가 1이라면, 이는 압축된 이름이라는 것을 의미한다. 이때, 2바이트를 읽어서 포인터를 얻어낸다. 포인터는 DNS 패킷에서의 위치를 나타내는데, 이 위치로 이동하여 다시 decode_name을 호출한다. 이때, 현재 위치를 저장해두었다가 다시 돌아올 수 있도록 해야 한다.\n",
    "\n",
    "압축된 도메인 이름은 다른 레이블을 따르지 않으므로, 레이블을 압축해제한 후 즉시 리턴한다.\n",
    "\n",
    "**이 코드는 보안 취약점을 가지고 있다. 이에 대한 내용은 연습문제 3을 참조하자.**"
   ],
   "id": "5cae2a9ca41b997f"
  },
  {
   "metadata": {},
   "cell_type": "code",
   "outputs": [],
   "execution_count": null,
   "source": "",
   "id": "c2f85e9a655f1b7d"
  },
  {
   "metadata": {},
   "cell_type": "markdown",
   "source": "# 2.7 레코드 파싱(압축 처리 포함)",
   "id": "ebfe1e5fbc08932f"
  },
  {
   "metadata": {
    "ExecuteTime": {
     "end_time": "2024-04-14T12:37:48.535105Z",
     "start_time": "2024-04-14T12:37:48.533130Z"
    }
   },
   "cell_type": "code",
   "source": [
    "def parse_record(reader):\n",
    "    name = decode_name(reader)\n",
    "    data = reader.read(10)\n",
    "    type_, class_, ttl, data_len = struct.unpack(\"!HHIH\", data)\n",
    "    data = reader.read(data_len)\n",
    "    return DNSRecord(name, type_, class_, ttl, data)"
   ],
   "id": "f9793ff7281d5375",
   "outputs": [],
   "execution_count": 15
  },
  {
   "metadata": {
    "ExecuteTime": {
     "end_time": "2024-04-14T12:37:49.088812Z",
     "start_time": "2024-04-14T12:37:49.086288Z"
    }
   },
   "cell_type": "code",
   "source": [
    "reader = BytesIO(response)\n",
    "parse_header(reader)\n",
    "parse_question(reader)\n",
    "parse_record(reader)"
   ],
   "id": "5c0cb54e159e7f51",
   "outputs": [
    {
     "data": {
      "text/plain": [
       "DNSRecord(name=b'blog.horang.dev', type_=5, class_=1, ttl=11362, data=b'\\x07chl8469\\x06github\\x02io\\x00')"
      ]
     },
     "execution_count": 16,
     "metadata": {},
     "output_type": "execute_result"
    }
   ],
   "execution_count": 16
  },
  {
   "metadata": {},
   "cell_type": "markdown",
   "source": "올바르게 파싱된 것을 확인할 수 있다.",
   "id": "edc7831a1fae0148"
  },
  {
   "metadata": {},
   "cell_type": "code",
   "outputs": [],
   "execution_count": null,
   "source": "",
   "id": "ac743801f3710b0e"
  },
  {
   "metadata": {},
   "cell_type": "markdown",
   "source": "# 2.8 DNS 패킷 파싱",
   "id": "1643da4e278558a3"
  },
  {
   "metadata": {},
   "cell_type": "markdown",
   "source": [
    "지금까지 배운 것들을 종합하여 전체 DNS 패킷을 구문 분석할 수 있다.\n",
    "\n",
    "이전에는 헤더 1개, 질문 1개, 레코드 1개를 파싱했지만, 실제로는 헤더에는 패킷의 각 섹션에서 예상되는 레코드 수를 알려주는 숫자(num_questions, num_answers, num_additions 및 num_authorities)가 여러 개 있다.\n",
    "\n",
    "따라서, DNS 패킷의 모든 섹션을 파싱하려면 이 숫자를 사용하여 각 섹션을 반복적으로 파싱해야 한다.\n",
    "\n",
    "DNS 패킷의 모든 내용(헤더, 질문, 모든 레코드)을 담을 클래스를 만들어 보자."
   ],
   "id": "139dd7d9156cf8e1"
  },
  {
   "metadata": {
    "ExecuteTime": {
     "end_time": "2024-04-14T12:37:53.925234Z",
     "start_time": "2024-04-14T12:37:53.922646Z"
    }
   },
   "cell_type": "code",
   "source": [
    "@dataclass\n",
    "class DNSPacket:\n",
    "    header: DNSHeader\n",
    "    questions: list[DNSQuestion]\n",
    "    # don't worry about the exact meaning of these 3 record\n",
    "    # sections for now: we'll use them in Part 3\n",
    "    answers: list[DNSRecord]\n",
    "    authorities: list[DNSRecord]\n",
    "    additionals: list[DNSRecord]"
   ],
   "id": "944488db6d7ed1e6",
   "outputs": [],
   "execution_count": 17
  },
  {
   "metadata": {},
   "cell_type": "markdown",
   "source": "이제 DNS 패킷을 파싱하는 함수를 작성해보자.",
   "id": "70130e640b5c5431"
  },
  {
   "metadata": {
    "ExecuteTime": {
     "end_time": "2024-04-14T12:37:55.841538Z",
     "start_time": "2024-04-14T12:37:55.839054Z"
    }
   },
   "cell_type": "code",
   "source": [
    "def parse_dns_packet(data):\n",
    "    reader = BytesIO(data)\n",
    "    header = parse_header(reader)\n",
    "    questions = [parse_question(reader) for _ in range(header.num_questions)]\n",
    "    answers = [parse_record(reader) for _ in range(header.num_answers)]\n",
    "    authorities = [parse_record(reader) for _ in range(header.num_authorities)]\n",
    "    additionals = [parse_record(reader) for _ in range(header.num_additionals)]\n",
    "\n",
    "    return DNSPacket(header, questions, answers, authorities, additionals)"
   ],
   "id": "e08d8641d39ba3ee",
   "outputs": [],
   "execution_count": 18
  },
  {
   "metadata": {
    "ExecuteTime": {
     "end_time": "2024-04-14T12:37:56.296357Z",
     "start_time": "2024-04-14T12:37:56.294079Z"
    }
   },
   "cell_type": "code",
   "source": [
    "packet = parse_dns_packet(response)\n",
    "packet"
   ],
   "id": "8e98cc75fcce5053",
   "outputs": [
    {
     "data": {
      "text/plain": [
       "DNSPacket(header=DNSHeader(id=37086, flags=33152, num_questions=1, num_answers=5, num_authorities=0, num_additionals=0), questions=[DNSQuestion(name=b'blog.horang.dev', type_=1, class_=1)], answers=[DNSRecord(name=b'blog.horang.dev', type_=5, class_=1, ttl=11362, data=b'\\x07chl8469\\x06github\\x02io\\x00'), DNSRecord(name=b'chl8469.github.io', type_=1, class_=1, ttl=562, data=b'\\xb9\\xc7l\\x99'), DNSRecord(name=b'chl8469.github.io', type_=1, class_=1, ttl=562, data=b'\\xb9\\xc7m\\x99'), DNSRecord(name=b'chl8469.github.io', type_=1, class_=1, ttl=562, data=b'\\xb9\\xc7n\\x99'), DNSRecord(name=b'chl8469.github.io', type_=1, class_=1, ttl=562, data=b'\\xb9\\xc7o\\x99')], authorities=[], additionals=[])"
      ]
     },
     "execution_count": 19,
     "metadata": {},
     "output_type": "execute_result"
    }
   ],
   "execution_count": 19
  },
  {
   "metadata": {
    "ExecuteTime": {
     "end_time": "2024-04-14T12:37:57.478063Z",
     "start_time": "2024-04-14T12:37:57.475535Z"
    }
   },
   "cell_type": "code",
   "source": [
    "for p in packet.answers:\n",
    "    print(f\"name: {p.name}, type: {DNSType(p.type_).name}, data: {p.data}\")"
   ],
   "id": "dc831d3f28d9ad41",
   "outputs": [
    {
     "name": "stdout",
     "output_type": "stream",
     "text": [
      "name: b'blog.horang.dev', type: CNAME, data: b'\\x07chl8469\\x06github\\x02io\\x00'\n",
      "name: b'chl8469.github.io', type: A, data: b'\\xb9\\xc7l\\x99'\n",
      "name: b'chl8469.github.io', type: A, data: b'\\xb9\\xc7m\\x99'\n",
      "name: b'chl8469.github.io', type: A, data: b'\\xb9\\xc7n\\x99'\n",
      "name: b'chl8469.github.io', type: A, data: b'\\xb9\\xc7o\\x99'\n"
     ]
    }
   ],
   "execution_count": 20
  },
  {
   "metadata": {},
   "cell_type": "markdown",
   "source": "data 부분이 모두 16진수로 출력되는데, 각 type에 따라 다르게 파싱해주어야 한다. A record일 경우 ip를 문자열로 변환해주는 코드를 작성해보자.",
   "id": "b9878a558dee54e6"
  },
  {
   "metadata": {
    "ExecuteTime": {
     "end_time": "2024-04-14T12:38:00.879918Z",
     "start_time": "2024-04-14T12:38:00.877588Z"
    }
   },
   "cell_type": "code",
   "source": [
    "def ip_to_string(ip):\n",
    "    return \".\".join([str(x) for x in ip])"
   ],
   "id": "7bee41972b104223",
   "outputs": [],
   "execution_count": 21
  },
  {
   "metadata": {
    "ExecuteTime": {
     "end_time": "2024-04-14T12:38:01.194185Z",
     "start_time": "2024-04-14T12:38:01.191356Z"
    }
   },
   "cell_type": "code",
   "source": [
    "for p in packet.answers:\n",
    "    dns_type = DNSType(p.type_)\n",
    "    if dns_type == DNSType.A:\n",
    "        data = ip_to_string(p.data)\n",
    "    else:\n",
    "        data = p.data\n",
    "    print(f\"name: {p.name}, type: {dns_type.name}, data: {data}\")"
   ],
   "id": "bab9c7de4ad263e2",
   "outputs": [
    {
     "name": "stdout",
     "output_type": "stream",
     "text": [
      "name: b'blog.horang.dev', type: CNAME, data: b'\\x07chl8469\\x06github\\x02io\\x00'\n",
      "name: b'chl8469.github.io', type: A, data: 185.199.108.153\n",
      "name: b'chl8469.github.io', type: A, data: 185.199.109.153\n",
      "name: b'chl8469.github.io', type: A, data: 185.199.110.153\n",
      "name: b'chl8469.github.io', type: A, data: 185.199.111.153\n"
     ]
    }
   ],
   "execution_count": 22
  },
  {
   "metadata": {},
   "cell_type": "code",
   "outputs": [],
   "execution_count": null,
   "source": "",
   "id": "f585dd3e22e933da"
  },
  {
   "metadata": {},
   "cell_type": "markdown",
   "source": "# 2.9 최종 테스트",
   "id": "b3a545660aa6b2a9"
  },
  {
   "metadata": {
    "ExecuteTime": {
     "end_time": "2024-04-14T12:38:04.654905Z",
     "start_time": "2024-04-14T12:38:04.650838Z"
    }
   },
   "cell_type": "code",
   "source": [
    "def lookup_domain(domain_name):\n",
    "    query = build_query(domain_name, DNSType.A)\n",
    "    sock = socket.socket(socket.AF_INET, socket.SOCK_DGRAM)\n",
    "    sock.sendto(query, (\"8.8.8.8\", 53))\n",
    "\n",
    "    # get the response\n",
    "    data, _ = sock.recvfrom(1024)\n",
    "    packet = parse_dns_packet(data)\n",
    "    for p in packet.answers:\n",
    "        dns_type = DNSType(p.type_)\n",
    "        data = p.data\n",
    "        if dns_type == DNSType.A:\n",
    "            data = ip_to_string(data)\n",
    "\n",
    "        print(f\"name: {p.name}, type: {dns_type.name}, data: {data}\")"
   ],
   "id": "ad39dffaf58def2b",
   "outputs": [],
   "execution_count": 23
  },
  {
   "metadata": {
    "ExecuteTime": {
     "end_time": "2024-04-14T12:38:05.986601Z",
     "start_time": "2024-04-14T12:38:05.945412Z"
    }
   },
   "cell_type": "code",
   "source": "lookup_domain(\"blog.horang.dev\")",
   "id": "b47a67301ed379",
   "outputs": [
    {
     "name": "stdout",
     "output_type": "stream",
     "text": [
      "name: b'blog.horang.dev', type: CNAME, data: b'\\x07chl8469\\x06github\\x02io\\x00'\n",
      "name: b'chl8469.github.io', type: A, data: 185.199.108.153\n",
      "name: b'chl8469.github.io', type: A, data: 185.199.109.153\n",
      "name: b'chl8469.github.io', type: A, data: 185.199.110.153\n",
      "name: b'chl8469.github.io', type: A, data: 185.199.111.153\n"
     ]
    }
   ],
   "execution_count": 24
  },
  {
   "metadata": {
    "ExecuteTime": {
     "end_time": "2024-04-14T12:38:07.878241Z",
     "start_time": "2024-04-14T12:38:07.846229Z"
    }
   },
   "cell_type": "code",
   "source": "lookup_domain(\"www.facebook.com\")",
   "id": "4a1d72e602f799a",
   "outputs": [
    {
     "name": "stdout",
     "output_type": "stream",
     "text": [
      "name: b'www.facebook.com', type: CNAME, data: b'\\tstar-mini\\x04c10r\\xc0\\x10'\n",
      "name: b'star-mini.c10r.facebook.com', type: A, data: 157.240.31.35\n"
     ]
    }
   ],
   "execution_count": 25
  },
  {
   "metadata": {
    "ExecuteTime": {
     "end_time": "2024-04-14T12:38:08.171790Z",
     "start_time": "2024-04-14T12:38:08.128742Z"
    }
   },
   "cell_type": "code",
   "source": "lookup_domain(\"www.metafilter.com\")",
   "id": "ef03e9e947ba5a29",
   "outputs": [
    {
     "name": "stdout",
     "output_type": "stream",
     "text": [
      "name: b'www.metafilter.com', type: CNAME, data: b'\\xc0\\x10'\n",
      "name: b'metafilter.com', type: A, data: 54.203.56.158\n"
     ]
    }
   ],
   "execution_count": 26
  },
  {
   "metadata": {},
   "cell_type": "markdown",
   "source": "A record가 아닌 경우에는 data를 그대로 출력한다.",
   "id": "56188255c64f2df0"
  },
  {
   "metadata": {},
   "cell_type": "code",
   "outputs": [],
   "execution_count": null,
   "source": "",
   "id": "b8756516de1ee5e5"
  },
  {
   "metadata": {
    "ExecuteTime": {
     "end_time": "2024-04-14T12:38:10.996284Z",
     "start_time": "2024-04-14T12:38:10.955100Z"
    }
   },
   "cell_type": "code",
   "source": [
    "request_message = build_query(\"www.metafilter.com\", DNSType.A)\n",
    "\n",
    "sock = socket.socket(socket.AF_INET, socket.SOCK_DGRAM)\n",
    "\n",
    "sock.sendto(request_message, (\"8.8.8.8\", 53))\n",
    "\n",
    "response, _ = sock.recvfrom(1024)\n",
    "\n",
    "reader = BytesIO(response)\n",
    "parse_header(reader)\n",
    "parse_question(reader)\n",
    "parse_record(reader)"
   ],
   "id": "ae9e4e5ddac79c14",
   "outputs": [
    {
     "data": {
      "text/plain": [
       "DNSRecord(name=b'www.metafilter.com', type_=5, class_=1, ttl=103, data=b'\\xc0\\x10')"
      ]
     },
     "execution_count": 27,
     "metadata": {},
     "output_type": "execute_result"
    }
   ],
   "execution_count": 27
  },
  {
   "metadata": {},
   "cell_type": "markdown",
   "source": "CNAME인 경우 data가 도메인 이름이다. 이를 decode_name으로 다시 파싱해주어야 한다.(압축 처리 포함)",
   "id": "20ad6e99e2cf3de"
  },
  {
   "metadata": {},
   "cell_type": "code",
   "outputs": [],
   "execution_count": null,
   "source": "",
   "id": "e4c4c605b0e1b12c"
  },
  {
   "metadata": {
    "ExecuteTime": {
     "end_time": "2024-04-14T12:38:12.605619Z",
     "start_time": "2024-04-14T12:38:12.602287Z"
    }
   },
   "cell_type": "code",
   "source": [
    "def parse_record_cname(reader):\n",
    "    name = decode_name(reader)\n",
    "    data = reader.read(10)\n",
    "    type_, class_, ttl, data_len = struct.unpack(\"!HHIH\", data)\n",
    "    if type_ == DNSType.CNAME:\n",
    "        data = decode_name(reader)\n",
    "    else:\n",
    "        data = reader.read(data_len)\n",
    "    return DNSRecord(name, type_, class_, ttl, data)"
   ],
   "id": "14d9f3d3b742b44f",
   "outputs": [],
   "execution_count": 28
  },
  {
   "metadata": {
    "ExecuteTime": {
     "end_time": "2024-04-14T12:38:14.526241Z",
     "start_time": "2024-04-14T12:38:14.482519Z"
    }
   },
   "cell_type": "code",
   "source": [
    "request_message = build_query(\"www.metafilter.com\", DNSType.A)\n",
    "\n",
    "sock = socket.socket(socket.AF_INET, socket.SOCK_DGRAM)\n",
    "\n",
    "sock.sendto(request_message, (\"8.8.8.8\", 53))\n",
    "\n",
    "response, _ = sock.recvfrom(1024)\n",
    "\n",
    "reader = BytesIO(response)\n",
    "parse_header(reader)\n",
    "parse_question(reader)\n",
    "parse_record_cname(reader)"
   ],
   "id": "61bf869e771c2625",
   "outputs": [
    {
     "data": {
      "text/plain": [
       "DNSRecord(name=b'www.metafilter.com', type_=5, class_=1, ttl=300, data=b'metafilter.com')"
      ]
     },
     "execution_count": 29,
     "metadata": {},
     "output_type": "execute_result"
    }
   ],
   "execution_count": 29
  },
  {
   "metadata": {},
   "cell_type": "code",
   "outputs": [],
   "execution_count": null,
   "source": "",
   "id": "ca1ccb0ca199e1c1"
  },
  {
   "metadata": {
    "ExecuteTime": {
     "end_time": "2024-04-14T12:38:16.502505Z",
     "start_time": "2024-04-14T12:38:16.462881Z"
    }
   },
   "cell_type": "code",
   "source": [
    "request_message = build_query(\"www.facebook.com\", DNSType.A)\n",
    "\n",
    "sock = socket.socket(socket.AF_INET, socket.SOCK_DGRAM)\n",
    "\n",
    "sock.sendto(request_message, (\"8.8.8.8\", 53))\n",
    "\n",
    "response, _ = sock.recvfrom(1024)\n",
    "\n",
    "reader = BytesIO(response)\n",
    "parse_header(reader)\n",
    "parse_question(reader)\n",
    "parse_record_cname(reader)"
   ],
   "id": "177de8f7ceef4285",
   "outputs": [
    {
     "data": {
      "text/plain": [
       "DNSRecord(name=b'www.facebook.com', type_=5, class_=1, ttl=1633, data=b'star-mini.c10r.facebook.com')"
      ]
     },
     "execution_count": 30,
     "metadata": {},
     "output_type": "execute_result"
    }
   ],
   "execution_count": 30
  },
  {
   "metadata": {},
   "cell_type": "code",
   "outputs": [],
   "execution_count": null,
   "source": "",
   "id": "7c82ee58eccc6c12"
  },
  {
   "metadata": {},
   "cell_type": "code",
   "outputs": [],
   "execution_count": null,
   "source": "",
   "id": "f2a6a9a7579f770f"
  },
  {
   "metadata": {},
   "cell_type": "code",
   "outputs": [],
   "execution_count": null,
   "source": "",
   "id": "35e12124cdd3540c"
  },
  {
   "metadata": {},
   "cell_type": "code",
   "outputs": [],
   "execution_count": null,
   "source": "",
   "id": "ba787cd5ef8dcfc6"
  }
 ],
 "metadata": {
  "kernelspec": {
   "display_name": "Python 3",
   "language": "python",
   "name": "python3"
  },
  "language_info": {
   "codemirror_mode": {
    "name": "ipython",
    "version": 2
   },
   "file_extension": ".py",
   "mimetype": "text/x-python",
   "name": "python",
   "nbconvert_exporter": "python",
   "pygments_lexer": "ipython2",
   "version": "2.7.6"
  }
 },
 "nbformat": 4,
 "nbformat_minor": 5
}
